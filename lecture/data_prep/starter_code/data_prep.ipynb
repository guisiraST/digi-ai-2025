{
 "cells": [
  {
   "cell_type": "code",
   "execution_count": null,
   "metadata": {},
   "outputs": [],
   "source": [
    "import pandas as pd"
   ]
  },
  {
   "cell_type": "code",
   "execution_count": 3,
   "metadata": {},
   "outputs": [],
   "source": [
    "inv_data = pd.read_excel('../data/inventory.xlsx')"
   ]
  },
  {
   "cell_type": "code",
   "execution_count": 5,
   "metadata": {},
   "outputs": [
    {
     "name": "stdout",
     "output_type": "stream",
     "text": [
      "<class 'pandas.core.frame.DataFrame'>\n",
      "RangeIndex: 35864 entries, 0 to 35863\n",
      "Data columns (total 5 columns):\n",
      " #   Column    Non-Null Count  Dtype  \n",
      "---  ------    --------------  -----  \n",
      " 0   date_stk  35864 non-null  object \n",
      " 1   site_no   35864 non-null  int64  \n",
      " 2   sku_no    35864 non-null  int64  \n",
      " 3   end_amt   35687 non-null  float64\n",
      " 4   end_qty   35683 non-null  float64\n",
      "dtypes: float64(2), int64(2), object(1)\n",
      "memory usage: 1.4+ MB\n"
     ]
    }
   ],
   "source": [
    "inv_data.info()"
   ]
  },
  {
   "cell_type": "code",
   "execution_count": 6,
   "metadata": {},
   "outputs": [
    {
     "data": {
      "text/html": [
       "<div>\n",
       "<style scoped>\n",
       "    .dataframe tbody tr th:only-of-type {\n",
       "        vertical-align: middle;\n",
       "    }\n",
       "\n",
       "    .dataframe tbody tr th {\n",
       "        vertical-align: top;\n",
       "    }\n",
       "\n",
       "    .dataframe thead th {\n",
       "        text-align: right;\n",
       "    }\n",
       "</style>\n",
       "<table border=\"1\" class=\"dataframe\">\n",
       "  <thead>\n",
       "    <tr style=\"text-align: right;\">\n",
       "      <th></th>\n",
       "      <th>count</th>\n",
       "      <th>mean</th>\n",
       "      <th>std</th>\n",
       "      <th>min</th>\n",
       "      <th>25%</th>\n",
       "      <th>50%</th>\n",
       "      <th>75%</th>\n",
       "      <th>max</th>\n",
       "    </tr>\n",
       "  </thead>\n",
       "  <tbody>\n",
       "    <tr>\n",
       "      <th>site_no</th>\n",
       "      <td>35864.0</td>\n",
       "      <td>2.005855</td>\n",
       "      <td>1.415817</td>\n",
       "      <td>0.00</td>\n",
       "      <td>1.000</td>\n",
       "      <td>2.00</td>\n",
       "      <td>3.000</td>\n",
       "      <td>4.00</td>\n",
       "    </tr>\n",
       "    <tr>\n",
       "      <th>sku_no</th>\n",
       "      <td>35864.0</td>\n",
       "      <td>4.542940</td>\n",
       "      <td>2.859624</td>\n",
       "      <td>0.00</td>\n",
       "      <td>2.000</td>\n",
       "      <td>5.00</td>\n",
       "      <td>7.000</td>\n",
       "      <td>9.00</td>\n",
       "    </tr>\n",
       "    <tr>\n",
       "      <th>end_amt</th>\n",
       "      <td>35687.0</td>\n",
       "      <td>4118.745564</td>\n",
       "      <td>31565.864703</td>\n",
       "      <td>-19661.26</td>\n",
       "      <td>483.005</td>\n",
       "      <td>1717.30</td>\n",
       "      <td>4075.110</td>\n",
       "      <td>999999.00</td>\n",
       "    </tr>\n",
       "    <tr>\n",
       "      <th>end_qty</th>\n",
       "      <td>35683.0</td>\n",
       "      <td>92.558074</td>\n",
       "      <td>109.157977</td>\n",
       "      <td>-325.79</td>\n",
       "      <td>16.100</td>\n",
       "      <td>59.03</td>\n",
       "      <td>132.985</td>\n",
       "      <td>1266.72</td>\n",
       "    </tr>\n",
       "  </tbody>\n",
       "</table>\n",
       "</div>"
      ],
      "text/plain": [
       "           count         mean           std       min      25%      50%  \\\n",
       "site_no  35864.0     2.005855      1.415817      0.00    1.000     2.00   \n",
       "sku_no   35864.0     4.542940      2.859624      0.00    2.000     5.00   \n",
       "end_amt  35687.0  4118.745564  31565.864703 -19661.26  483.005  1717.30   \n",
       "end_qty  35683.0    92.558074    109.157977   -325.79   16.100    59.03   \n",
       "\n",
       "              75%        max  \n",
       "site_no     3.000       4.00  \n",
       "sku_no      7.000       9.00  \n",
       "end_amt  4075.110  999999.00  \n",
       "end_qty   132.985    1266.72  "
      ]
     },
     "execution_count": 6,
     "metadata": {},
     "output_type": "execute_result"
    }
   ],
   "source": [
    "inv_data.describe().T"
   ]
  },
  {
   "cell_type": "code",
   "execution_count": 7,
   "metadata": {},
   "outputs": [
    {
     "data": {
      "text/html": [
       "<div>\n",
       "<style scoped>\n",
       "    .dataframe tbody tr th:only-of-type {\n",
       "        vertical-align: middle;\n",
       "    }\n",
       "\n",
       "    .dataframe tbody tr th {\n",
       "        vertical-align: top;\n",
       "    }\n",
       "\n",
       "    .dataframe thead th {\n",
       "        text-align: right;\n",
       "    }\n",
       "</style>\n",
       "<table border=\"1\" class=\"dataframe\">\n",
       "  <thead>\n",
       "    <tr style=\"text-align: right;\">\n",
       "      <th></th>\n",
       "      <th>date_stk</th>\n",
       "      <th>site_no</th>\n",
       "      <th>sku_no</th>\n",
       "      <th>end_amt</th>\n",
       "      <th>end_qty</th>\n",
       "    </tr>\n",
       "  </thead>\n",
       "  <tbody>\n",
       "    <tr>\n",
       "      <th>37</th>\n",
       "      <td>2022-01-01</td>\n",
       "      <td>2</td>\n",
       "      <td>3</td>\n",
       "      <td>-73.83</td>\n",
       "      <td>-6.90</td>\n",
       "    </tr>\n",
       "    <tr>\n",
       "      <th>62</th>\n",
       "      <td>2022-01-02</td>\n",
       "      <td>2</td>\n",
       "      <td>3</td>\n",
       "      <td>-24.61</td>\n",
       "      <td>-2.30</td>\n",
       "    </tr>\n",
       "    <tr>\n",
       "      <th>91</th>\n",
       "      <td>2022-01-03</td>\n",
       "      <td>3</td>\n",
       "      <td>3</td>\n",
       "      <td>-98.44</td>\n",
       "      <td>-9.20</td>\n",
       "    </tr>\n",
       "    <tr>\n",
       "      <th>94</th>\n",
       "      <td>2022-01-03</td>\n",
       "      <td>2</td>\n",
       "      <td>8</td>\n",
       "      <td>-297.63</td>\n",
       "      <td>-6.76</td>\n",
       "    </tr>\n",
       "    <tr>\n",
       "      <th>143</th>\n",
       "      <td>2022-01-04</td>\n",
       "      <td>3</td>\n",
       "      <td>3</td>\n",
       "      <td>-98.44</td>\n",
       "      <td>-9.20</td>\n",
       "    </tr>\n",
       "    <tr>\n",
       "      <th>...</th>\n",
       "      <td>...</td>\n",
       "      <td>...</td>\n",
       "      <td>...</td>\n",
       "      <td>...</td>\n",
       "      <td>...</td>\n",
       "    </tr>\n",
       "    <tr>\n",
       "      <th>35573</th>\n",
       "      <td>2023-12-25</td>\n",
       "      <td>2</td>\n",
       "      <td>2</td>\n",
       "      <td>-1419.84</td>\n",
       "      <td>-35.50</td>\n",
       "    </tr>\n",
       "    <tr>\n",
       "      <th>35620</th>\n",
       "      <td>2023-12-26</td>\n",
       "      <td>2</td>\n",
       "      <td>5</td>\n",
       "      <td>-83.09</td>\n",
       "      <td>-1.65</td>\n",
       "    </tr>\n",
       "    <tr>\n",
       "      <th>35628</th>\n",
       "      <td>2023-12-26</td>\n",
       "      <td>2</td>\n",
       "      <td>2</td>\n",
       "      <td>-2464.22</td>\n",
       "      <td>-61.61</td>\n",
       "    </tr>\n",
       "    <tr>\n",
       "      <th>35646</th>\n",
       "      <td>2023-12-27</td>\n",
       "      <td>2</td>\n",
       "      <td>5</td>\n",
       "      <td>-105.34</td>\n",
       "      <td>-2.09</td>\n",
       "    </tr>\n",
       "    <tr>\n",
       "      <th>35833</th>\n",
       "      <td>2023-12-31</td>\n",
       "      <td>2</td>\n",
       "      <td>3</td>\n",
       "      <td>-28.27</td>\n",
       "      <td>-2.30</td>\n",
       "    </tr>\n",
       "  </tbody>\n",
       "</table>\n",
       "<p>1935 rows × 5 columns</p>\n",
       "</div>"
      ],
      "text/plain": [
       "         date_stk  site_no  sku_no  end_amt  end_qty\n",
       "37     2022-01-01        2       3   -73.83    -6.90\n",
       "62     2022-01-02        2       3   -24.61    -2.30\n",
       "91     2022-01-03        3       3   -98.44    -9.20\n",
       "94     2022-01-03        2       8  -297.63    -6.76\n",
       "143    2022-01-04        3       3   -98.44    -9.20\n",
       "...           ...      ...     ...      ...      ...\n",
       "35573  2023-12-25        2       2 -1419.84   -35.50\n",
       "35620  2023-12-26        2       5   -83.09    -1.65\n",
       "35628  2023-12-26        2       2 -2464.22   -61.61\n",
       "35646  2023-12-27        2       5  -105.34    -2.09\n",
       "35833  2023-12-31        2       3   -28.27    -2.30\n",
       "\n",
       "[1935 rows x 5 columns]"
      ]
     },
     "execution_count": 7,
     "metadata": {},
     "output_type": "execute_result"
    }
   ],
   "source": [
    "inv_data[inv_data['end_amt'] < 0]"
   ]
  },
  {
   "cell_type": "code",
   "execution_count": 8,
   "metadata": {},
   "outputs": [
    {
     "data": {
      "text/plain": [
       "0           86.14\n",
       "1         6314.03\n",
       "2         1300.89\n",
       "3         2244.37\n",
       "4         8427.20\n",
       "           ...   \n",
       "35859     1615.32\n",
       "35860     3207.11\n",
       "35861     8169.64\n",
       "35862     2835.26\n",
       "35863    11229.53\n",
       "Name: end_amt, Length: 35864, dtype: float64"
      ]
     },
     "execution_count": 8,
     "metadata": {},
     "output_type": "execute_result"
    }
   ],
   "source": [
    "inv_data['end_amt'] = inv_data['end_amt'].abs()\n",
    "inv_data['end_amt']"
   ]
  },
  {
   "cell_type": "markdown",
   "metadata": {},
   "source": [
    "1. Found that 'end_amt' of inventory has negative values, which seems abnormal and could be caused by human error. So we take the absolute value to fix it. --> 0.5 point"
   ]
  }
 ],
 "metadata": {
  "kernelspec": {
   "display_name": "Python 3",
   "language": "python",
   "name": "python3"
  },
  "language_info": {
   "codemirror_mode": {
    "name": "ipython",
    "version": 3
   },
   "file_extension": ".py",
   "mimetype": "text/x-python",
   "name": "python",
   "nbconvert_exporter": "python",
   "pygments_lexer": "ipython3",
   "version": "3.9.6"
  }
 },
 "nbformat": 4,
 "nbformat_minor": 2
}
